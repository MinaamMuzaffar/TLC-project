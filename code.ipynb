{
 "cells": [
  {
   "cell_type": "code",
   "execution_count": 1,
   "id": "0a095da3-88ed-4e97-b3e7-0210c64c618d",
   "metadata": {
    "vscode": {
     "languageId": "python"
    }
   },
   "outputs": [
    {
     "name": "stdout",
     "output_type": "stream",
     "text": [
      "3.13.1\n"
     ]
    }
   ],
   "source": [
    "from platform import python_version\n",
    "print(python_version())"
   ]
  },
  {
   "cell_type": "code",
   "execution_count": 4,
   "id": "1ba20854-c2e0-4a98-b896-358a6522af02",
   "metadata": {},
   "outputs": [],
   "source": [
    "import numpy as np\n",
    "import pandas as pd\n",
    "import seaborn as sns\n",
    "import matplotlib.pyplot as plt"
   ]
  },
  {
   "cell_type": "code",
   "execution_count": 5,
   "id": "c293e87d-5470-4966-b61b-7a9a2a342651",
   "metadata": {},
   "outputs": [
    {
     "data": {
      "text/html": [
       "<div>\n",
       "<style scoped>\n",
       "    .dataframe tbody tr th:only-of-type {\n",
       "        vertical-align: middle;\n",
       "    }\n",
       "\n",
       "    .dataframe tbody tr th {\n",
       "        vertical-align: top;\n",
       "    }\n",
       "\n",
       "    .dataframe thead th {\n",
       "        text-align: right;\n",
       "    }\n",
       "</style>\n",
       "<table border=\"1\" class=\"dataframe\">\n",
       "  <thead>\n",
       "    <tr style=\"text-align: right;\">\n",
       "      <th></th>\n",
       "      <th>Unnamed: 0</th>\n",
       "      <th>VendorID</th>\n",
       "      <th>tpep_pickup_datetime</th>\n",
       "      <th>tpep_dropoff_datetime</th>\n",
       "      <th>passenger_count</th>\n",
       "      <th>trip_distance</th>\n",
       "      <th>RatecodeID</th>\n",
       "      <th>store_and_fwd_flag</th>\n",
       "      <th>PULocationID</th>\n",
       "      <th>DOLocationID</th>\n",
       "      <th>payment_type</th>\n",
       "      <th>fare_amount</th>\n",
       "      <th>extra</th>\n",
       "      <th>mta_tax</th>\n",
       "      <th>tip_amount</th>\n",
       "      <th>tolls_amount</th>\n",
       "      <th>improvement_surcharge</th>\n",
       "      <th>total_amount</th>\n",
       "    </tr>\n",
       "  </thead>\n",
       "  <tbody>\n",
       "    <tr>\n",
       "      <th>0</th>\n",
       "      <td>24870114</td>\n",
       "      <td>2</td>\n",
       "      <td>03/25/2017 8:55:43 AM</td>\n",
       "      <td>03/25/2017 9:09:47 AM</td>\n",
       "      <td>6</td>\n",
       "      <td>3.34</td>\n",
       "      <td>1</td>\n",
       "      <td>N</td>\n",
       "      <td>100</td>\n",
       "      <td>231</td>\n",
       "      <td>1</td>\n",
       "      <td>13.0</td>\n",
       "      <td>0.0</td>\n",
       "      <td>0.5</td>\n",
       "      <td>2.76</td>\n",
       "      <td>0.0</td>\n",
       "      <td>0.3</td>\n",
       "      <td>16.56</td>\n",
       "    </tr>\n",
       "    <tr>\n",
       "      <th>1</th>\n",
       "      <td>35634249</td>\n",
       "      <td>1</td>\n",
       "      <td>04/11/2017 2:53:28 PM</td>\n",
       "      <td>04/11/2017 3:19:58 PM</td>\n",
       "      <td>1</td>\n",
       "      <td>1.80</td>\n",
       "      <td>1</td>\n",
       "      <td>N</td>\n",
       "      <td>186</td>\n",
       "      <td>43</td>\n",
       "      <td>1</td>\n",
       "      <td>16.0</td>\n",
       "      <td>0.0</td>\n",
       "      <td>0.5</td>\n",
       "      <td>4.00</td>\n",
       "      <td>0.0</td>\n",
       "      <td>0.3</td>\n",
       "      <td>20.80</td>\n",
       "    </tr>\n",
       "    <tr>\n",
       "      <th>2</th>\n",
       "      <td>106203690</td>\n",
       "      <td>1</td>\n",
       "      <td>12/15/2017 7:26:56 AM</td>\n",
       "      <td>12/15/2017 7:34:08 AM</td>\n",
       "      <td>1</td>\n",
       "      <td>1.00</td>\n",
       "      <td>1</td>\n",
       "      <td>N</td>\n",
       "      <td>262</td>\n",
       "      <td>236</td>\n",
       "      <td>1</td>\n",
       "      <td>6.5</td>\n",
       "      <td>0.0</td>\n",
       "      <td>0.5</td>\n",
       "      <td>1.45</td>\n",
       "      <td>0.0</td>\n",
       "      <td>0.3</td>\n",
       "      <td>8.75</td>\n",
       "    </tr>\n",
       "    <tr>\n",
       "      <th>3</th>\n",
       "      <td>38942136</td>\n",
       "      <td>2</td>\n",
       "      <td>05/07/2017 1:17:59 PM</td>\n",
       "      <td>05/07/2017 1:48:14 PM</td>\n",
       "      <td>1</td>\n",
       "      <td>3.70</td>\n",
       "      <td>1</td>\n",
       "      <td>N</td>\n",
       "      <td>188</td>\n",
       "      <td>97</td>\n",
       "      <td>1</td>\n",
       "      <td>20.5</td>\n",
       "      <td>0.0</td>\n",
       "      <td>0.5</td>\n",
       "      <td>6.39</td>\n",
       "      <td>0.0</td>\n",
       "      <td>0.3</td>\n",
       "      <td>27.69</td>\n",
       "    </tr>\n",
       "    <tr>\n",
       "      <th>4</th>\n",
       "      <td>30841670</td>\n",
       "      <td>2</td>\n",
       "      <td>04/15/2017 11:32:20 PM</td>\n",
       "      <td>04/15/2017 11:49:03 PM</td>\n",
       "      <td>1</td>\n",
       "      <td>4.37</td>\n",
       "      <td>1</td>\n",
       "      <td>N</td>\n",
       "      <td>4</td>\n",
       "      <td>112</td>\n",
       "      <td>2</td>\n",
       "      <td>16.5</td>\n",
       "      <td>0.5</td>\n",
       "      <td>0.5</td>\n",
       "      <td>0.00</td>\n",
       "      <td>0.0</td>\n",
       "      <td>0.3</td>\n",
       "      <td>17.80</td>\n",
       "    </tr>\n",
       "  </tbody>\n",
       "</table>\n",
       "</div>"
      ],
      "text/plain": [
       "   Unnamed: 0  VendorID    tpep_pickup_datetime   tpep_dropoff_datetime  \\\n",
       "0    24870114         2   03/25/2017 8:55:43 AM   03/25/2017 9:09:47 AM   \n",
       "1    35634249         1   04/11/2017 2:53:28 PM   04/11/2017 3:19:58 PM   \n",
       "2   106203690         1   12/15/2017 7:26:56 AM   12/15/2017 7:34:08 AM   \n",
       "3    38942136         2   05/07/2017 1:17:59 PM   05/07/2017 1:48:14 PM   \n",
       "4    30841670         2  04/15/2017 11:32:20 PM  04/15/2017 11:49:03 PM   \n",
       "\n",
       "   passenger_count  trip_distance  RatecodeID store_and_fwd_flag  \\\n",
       "0                6           3.34           1                  N   \n",
       "1                1           1.80           1                  N   \n",
       "2                1           1.00           1                  N   \n",
       "3                1           3.70           1                  N   \n",
       "4                1           4.37           1                  N   \n",
       "\n",
       "   PULocationID  DOLocationID  payment_type  fare_amount  extra  mta_tax  \\\n",
       "0           100           231             1         13.0    0.0      0.5   \n",
       "1           186            43             1         16.0    0.0      0.5   \n",
       "2           262           236             1          6.5    0.0      0.5   \n",
       "3           188            97             1         20.5    0.0      0.5   \n",
       "4             4           112             2         16.5    0.5      0.5   \n",
       "\n",
       "   tip_amount  tolls_amount  improvement_surcharge  total_amount  \n",
       "0        2.76           0.0                    0.3         16.56  \n",
       "1        4.00           0.0                    0.3         20.80  \n",
       "2        1.45           0.0                    0.3          8.75  \n",
       "3        6.39           0.0                    0.3         27.69  \n",
       "4        0.00           0.0                    0.3         17.80  "
      ]
     },
     "execution_count": 5,
     "metadata": {},
     "output_type": "execute_result"
    }
   ],
   "source": [
    "TLC= pd.read_csv(\"2017_Yellow_Taxi_Trip_Data.csv\")\n",
    "TLC.head()"
   ]
  },
  {
   "cell_type": "code",
   "execution_count": 12,
   "id": "5859ce1c-59ab-4259-ba3a-ad0fc23cd818",
   "metadata": {},
   "outputs": [
    {
     "data": {
      "text/plain": [
       "Unnamed: 0               0\n",
       "VendorID                 0\n",
       "tpep_pickup_datetime     0\n",
       "tpep_dropoff_datetime    0\n",
       "passenger_count          0\n",
       "trip_distance            0\n",
       "RatecodeID               0\n",
       "store_and_fwd_flag       0\n",
       "PULocationID             0\n",
       "DOLocationID             0\n",
       "payment_type             0\n",
       "fare_amount              0\n",
       "extra                    0\n",
       "mta_tax                  0\n",
       "tip_amount               0\n",
       "tolls_amount             0\n",
       "improvement_surcharge    0\n",
       "total_amount             0\n",
       "dtype: int64"
      ]
     },
     "execution_count": 12,
     "metadata": {},
     "output_type": "execute_result"
    }
   ],
   "source": [
    "total_missing= TLC.isnull().sum()\n",
    "total_missing"
   ]
  },
  {
   "cell_type": "code",
   "execution_count": 6,
   "id": "b58c1769-3a21-43e0-b4b4-3ab16419d139",
   "metadata": {},
   "outputs": [
    {
     "data": {
      "text/plain": [
       "Unnamed: 0                 int64\n",
       "VendorID                   int64\n",
       "tpep_pickup_datetime      object\n",
       "tpep_dropoff_datetime     object\n",
       "passenger_count            int64\n",
       "trip_distance            float64\n",
       "RatecodeID                 int64\n",
       "store_and_fwd_flag        object\n",
       "PULocationID               int64\n",
       "DOLocationID               int64\n",
       "payment_type               int64\n",
       "fare_amount              float64\n",
       "extra                    float64\n",
       "mta_tax                  float64\n",
       "tip_amount               float64\n",
       "tolls_amount             float64\n",
       "improvement_surcharge    float64\n",
       "total_amount             float64\n",
       "dtype: object"
      ]
     },
     "execution_count": 6,
     "metadata": {},
     "output_type": "execute_result"
    }
   ],
   "source": [
    "TLC.dtypes"
   ]
  },
  {
   "cell_type": "code",
   "execution_count": 14,
   "id": "75ae4a30-07da-46c6-8110-1d5f4a02e3ea",
   "metadata": {},
   "outputs": [
    {
     "name": "stdout",
     "output_type": "stream",
     "text": [
      "0     03/25/2017 8:55:43 AM\n",
      "1     04/11/2017 2:53:28 PM\n",
      "2     12/15/2017 7:26:56 AM\n",
      "3     05/07/2017 1:17:59 PM\n",
      "4    04/15/2017 11:32:20 PM\n",
      "Name: tpep_pickup_datetime, dtype: object\n",
      "----------------------------------------\n",
      "0     03/25/2017 9:09:47 AM\n",
      "1     04/11/2017 3:19:58 PM\n",
      "2     12/15/2017 7:34:08 AM\n",
      "3     05/07/2017 1:48:14 PM\n",
      "4    04/15/2017 11:49:03 PM\n",
      "Name: tpep_dropoff_datetime, dtype: object\n"
     ]
    }
   ],
   "source": [
    "print(TLC[\"tpep_pickup_datetime\"].head())\n",
    "print(\"-\"*40)\n",
    "print(TLC[\"tpep_dropoff_datetime\"].head())"
   ]
  },
  {
   "cell_type": "code",
   "execution_count": 15,
   "id": "9261c521-7ba2-4d3d-835c-f8857049465e",
   "metadata": {},
   "outputs": [
    {
     "name": "stdout",
     "output_type": "stream",
     "text": [
      "datetime64[ns]\n"
     ]
    }
   ],
   "source": [
    "TLC['tpep_pickup_datetime'] = pd.to_datetime(TLC['tpep_pickup_datetime'], format='%m/%d/%Y %I:%M:%S %p')\n",
    "print(TLC['tpep_pickup_datetime'].dtype)"
   ]
  },
  {
   "cell_type": "code",
   "execution_count": 16,
   "id": "f170453d-5909-4c38-9b45-7b9a50906f23",
   "metadata": {},
   "outputs": [
    {
     "name": "stdout",
     "output_type": "stream",
     "text": [
      "datetime64[ns]\n"
     ]
    }
   ],
   "source": [
    "TLC['tpep_dropoff_datetime'] = pd.to_datetime(TLC['tpep_dropoff_datetime'], format='%m/%d/%Y %I:%M:%S %p')\n",
    "print(TLC['tpep_dropoff_datetime'].dtype)"
   ]
  },
  {
   "cell_type": "code",
   "execution_count": 17,
   "id": "65115bb6-f2db-40bb-89df-97b5bc7bb197",
   "metadata": {},
   "outputs": [
    {
     "data": {
      "text/plain": [
       "<seaborn.axisgrid.FacetGrid at 0x1cde87e7770>"
      ]
     },
     "execution_count": 17,
     "metadata": {},
     "output_type": "execute_result"
    },
    {
     "data": {
      "image/png": "[encoded data removed]",
      "text/plain": [
       "<Figure size 500x500 with 1 Axes>"
      ]
     },
     "metadata": {},
     "output_type": "display_data"
    }
   ],
   "source": [
    "day_of_month = TLC['tpep_pickup_datetime'].dt.day\n",
    "sns.displot(day_of_month, kde=False, bins=31)"
   ]
  },
  {
   "cell_type": "code",
   "execution_count": 13,
   "id": "86dc7434-f404-4e62-9c6b-ea908fc17d0f",
   "metadata": {},
   "outputs": [
    {
     "data": {
      "text/plain": [
       "(22699, 18)"
      ]
     },
     "execution_count": 13,
     "metadata": {},
     "output_type": "execute_result"
    }
   ],
   "source": [
    "total_data =TLC.shape\n",
    "total_data"
   ]
  },
  {
   "cell_type": "code",
   "execution_count": 14,
   "id": "19d39d7c-75de-432d-bc28-6cee2159ea0c",
   "metadata": {},
   "outputs": [
    {
     "name": "stdout",
     "output_type": "stream",
     "text": [
      "         Unnamed: 0      VendorID  passenger_count  trip_distance  \\\n",
      "count  2.269900e+04  22699.000000     22699.000000   22699.000000   \n",
      "mean   5.675849e+07      1.556236         1.642319       2.913313   \n",
      "std    3.274493e+07      0.496838         1.285231       3.653171   \n",
      "min    1.212700e+04      1.000000         0.000000       0.000000   \n",
      "25%    2.852056e+07      1.000000         1.000000       0.990000   \n",
      "50%    5.673150e+07      2.000000         1.000000       1.610000   \n",
      "75%    8.537452e+07      2.000000         2.000000       3.060000   \n",
      "max    1.134863e+08      2.000000         6.000000      33.960000   \n",
      "\n",
      "         RatecodeID  PULocationID  DOLocationID  payment_type   fare_amount  \\\n",
      "count  22699.000000  22699.000000  22699.000000  22699.000000  22699.000000   \n",
      "mean       1.043394    162.412353    161.527997      1.336887     13.026629   \n",
      "std        0.708391     66.633373     70.139691      0.496211     13.243791   \n",
      "min        1.000000      1.000000      1.000000      1.000000   -120.000000   \n",
      "25%        1.000000    114.000000    112.000000      1.000000      6.500000   \n",
      "50%        1.000000    162.000000    162.000000      1.000000      9.500000   \n",
      "75%        1.000000    233.000000    233.000000      2.000000     14.500000   \n",
      "max       99.000000    265.000000    265.000000      4.000000    999.990000   \n",
      "\n",
      "              extra       mta_tax    tip_amount  tolls_amount  \\\n",
      "count  22699.000000  22699.000000  22699.000000  22699.000000   \n",
      "mean       0.333275      0.497445      1.835781      0.312542   \n",
      "std        0.463097      0.039465      2.800626      1.399212   \n",
      "min       -1.000000     -0.500000      0.000000      0.000000   \n",
      "25%        0.000000      0.500000      0.000000      0.000000   \n",
      "50%        0.000000      0.500000      1.350000      0.000000   \n",
      "75%        0.500000      0.500000      2.450000      0.000000   \n",
      "max        4.500000      0.500000    200.000000     19.100000   \n",
      "\n",
      "       improvement_surcharge  total_amount  \n",
      "count           22699.000000  22699.000000  \n",
      "mean                0.299551     16.310502  \n",
      "std                 0.015673     16.097295  \n",
      "min                -0.300000   -120.300000  \n",
      "25%                 0.300000      8.750000  \n",
      "50%                 0.300000     11.800000  \n",
      "75%                 0.300000     17.800000  \n",
      "max                 0.300000   1200.290000  \n"
     ]
    }
   ],
   "source": [
    "print(TLC.describe())"
   ]
  },
  {
   "cell_type": "code",
   "execution_count": 9,
   "id": "6d48d707-2c98-4483-80af-d2916b534af5",
   "metadata": {},
   "outputs": [
    {
     "data": {
      "image/png": "[encoded data removed]",
      "text/plain": [
       "<Figure size 1000x800 with 1 Axes>"
      ]
     },
     "metadata": {},
     "output_type": "display_data"
    }
   ],
   "source": [
    "plt.figure(figsize=(10, 8))\n",
    "plt.hist(TLC['trip_distance'], bins=50)\n",
    "plt.xlabel('Trip Distance')\n",
    "plt.ylabel('Frequency')\n",
    "plt.title('Distribution of Trip Distance')\n",
    "plt.show()"
   ]
  },
  {
   "cell_type": "code",
   "execution_count": 18,
   "id": "e4945616-e144-4429-886f-3ea2ffa8586d",
   "metadata": {},
   "outputs": [
    {
     "name": "stdout",
     "output_type": "stream",
     "text": [
      "Correlation Coefficient: 0.7565989842423745\n"
     ]
    }
   ],
   "source": [
    "# Calculate the correlation coefficient\n",
    "correlation = TLC['trip_distance'].corr(TLC['fare_amount'])\n",
    "print(f\"Correlation Coefficient: {correlation}\")"
   ]
  },
  {
   "cell_type": "code",
   "execution_count": 19,
   "id": "4263d2f3-8540-4d6e-b512-72c22ea7fb9b",
   "metadata": {},
   "outputs": [
    {
     "data": {
      "image/png": "[encoded data removed]",
      "text/plain": [
       "<Figure size 640x480 with 1 Axes>"
      ]
     },
     "metadata": {},
     "output_type": "display_data"
    }
   ],
   "source": [
    "# Create a scatter plot to visualize the relationship\n",
    "sns.scatterplot(x='trip_distance', y='fare_amount', data=TLC)\n",
    "plt.title('Trip Distance vs. Fare Amount')\n",
    "plt.xlabel('Trip Distance')\n",
    "plt.ylabel('Fare Amount')\n",
    "plt.show()"
   ]
  },
  {
   "cell_type": "code",
   "execution_count": null,
   "id": "0af3378b-6241-4113-9fcb-7b347d68650b",
   "metadata": {},
   "outputs": [],
   "source": []
  }
 ],
 "metadata": {
  "kernelspec": {
   "display_name": "Python 3 (ipykernel)",
   "language": "python",
   "name": "python3"
  },
  "language_info": {
   "codemirror_mode": {
    "name": "ipython",
    "version": 3
   },
   "file_extension": ".py",
   "mimetype": "text/x-python",
   "name": "python",
   "nbconvert_exporter": "python",
   "pygments_lexer": "ipython3",
   "version": "3.13.1"
  }
 },
 "nbformat": 4,
 "nbformat_minor": 5
}
